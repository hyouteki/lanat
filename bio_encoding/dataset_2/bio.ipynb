{
 "cells": [
  {
   "cell_type": "code",
   "execution_count": 1,
   "metadata": {},
   "outputs": [],
   "source": [
    "import json\n",
    "import pprint\n",
    "\n",
    "def bio_chunking(dataset):\n",
    "    processed_data = {}\n",
    "    for idx, entry in enumerate(dataset, start=1):\n",
    "        text = entry[\"raw_words\"]  \n",
    "        labels = [\"O\"] * len(entry[\"words\"])\n",
    "        \n",
    "        for aspect in entry[\"aspects\"]:\n",
    "            for i in range(aspect[\"from\"], aspect[\"to\"]):\n",
    "                if i == aspect[\"from\"]:\n",
    "                    labels[i] = \"B\"\n",
    "                else:\n",
    "                    labels[i] = \"I\"\n",
    "        \n",
    "\n",
    "        processed_data[str(idx)] = {\"text\": text, \"labels\": labels}\n",
    "    \n",
    "    return processed_data\n",
    "\n",
    "input_data = [\n",
    "    {\n",
    "        \"raw_words\": \"I charge it at night and skip taking the cord with me because of the good battery life .\",\n",
    "        \"words\": [\"I\", \"charge\", \"it\", \"at\", \"night\", \"and\", \"skip\", \"taking\", \"the\", \"cord\", \"with\", \"me\", \"because\", \"of\", \"the\", \"good\", \"battery\", \"life\", \".\"],\n",
    "        \"aspects\": [{\"index\": 0, \"from\": 16, \"to\": 18, \"polarity\": \"POS\", \"term\": [\"battery\", \"life\"]}],\n",
    "        \"opinions\": [{\"index\": 0, \"from\": 15, \"to\": 16, \"term\": [\"good\"]}]\n",
    "    },\n",
    "]\n"
   ]
  },
  {
   "cell_type": "code",
   "execution_count": null,
   "metadata": {},
   "outputs": [],
   "source": [
    "\n",
    "f=open(\"Laptop_Review_Train.json\", \"r\")\n",
    "train_data = json.load(f)\n",
    "processed_train_data = bio_chunking(train_data)\n",
    "\n",
    "f=open(\"Laptop_Review_Test.json\", \"r\")\n",
    "test_data = json.load(f)\n",
    "processed_test_data = bio_chunking(test_data)\n",
    "\n",
    "f=open(\"Laptop_Review_Val.json\", \"r\")\n",
    "val_data = json.load(f)\n",
    "processed_val_data = bio_chunking(val_data)\n",
    "\n",
    "with open(\"processed_train_data.json\", \"w\") as f:\n",
    "    json.dump(processed_train_data, f)\n",
    "\n",
    "with open(\"processed_test_data.json\", \"w\") as f:\n",
    "    json.dump(processed_test_data, f)\n",
    "\n",
    "with open(\"processed_val_data.json\", \"w\") as f:\n",
    "    json.dump(processed_val_data, f)"
   ]
  }
 ],
 "metadata": {
  "kernelspec": {
   "display_name": "Python 3",
   "language": "python",
   "name": "python3"
  },
  "language_info": {
   "codemirror_mode": {
    "name": "ipython",
    "version": 3
   },
   "file_extension": ".py",
   "mimetype": "text/x-python",
   "name": "python",
   "nbconvert_exporter": "python",
   "pygments_lexer": "ipython3",
   "version": "3.10.11"
  }
 },
 "nbformat": 4,
 "nbformat_minor": 2
}
