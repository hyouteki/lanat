{
 "cells": [
  {
   "cell_type": "code",
   "execution_count": null,
   "metadata": {},
   "outputs": [],
   "source": [
    "import torch\n",
    "import torch.nn as nn\n",
    "import numpy as np\n",
    "from gensim.models import KeyedVectors\n",
    "from main import run"
   ]
  },
  {
   "cell_type": "code",
   "execution_count": null,
   "metadata": {},
   "outputs": [],
   "source": [
    "def load_glove_embeddings(file_path, word_to_index, embedding_dim):\n",
    "    embeddings = {}\n",
    "    with open(file_path, \"r\", encoding=\"utf-8\") as file:\n",
    "        for line in file:\n",
    "            values = line.split()\n",
    "            word = values[0]\n",
    "            coefs = np.asarray(values[1:], dtype=\"float32\")\n",
    "            embeddings[word] = coefs\n",
    "\n",
    "    num_words = len(word_to_index) + 1  # add 1 for the padding token\n",
    "    embedding_matrix = np.zeros((num_words, embedding_dim))\n",
    "\n",
    "    for word, index in word_to_index.items():\n",
    "        if (embedding := embeddings.get(word)) is not None:\n",
    "            embedding_matrix[index] = embedding\n",
    "        else:\n",
    "            embedding_matrix[index] = embeddings.get(\"<unk>\", np.zeros(embedding_dim))\n",
    "\n",
    "    return embedding_matrix"
   ]
  },
  {
   "cell_type": "code",
   "execution_count": null,
   "metadata": {},
   "outputs": [],
   "source": [
    "def load_word2vec_embeddings(file_path, word_to_index, embedding_dim):\n",
    "    model = KeyedVectors.load_word2vec_format(file_path, binary=True)\n",
    "    embedding_matrix = np.zeros((len(word_to_index) + 1, embedding_dim))\n",
    "\n",
    "    for word, index in word_to_index.items():\n",
    "        embedding_matrix[index] = (\n",
    "            model[word] if word in model else np.zeros(embedding_dim)\n",
    "        )\n",
    "\n",
    "    return embedding_matrix"
   ]
  },
  {
   "cell_type": "code",
   "execution_count": null,
   "metadata": {},
   "outputs": [],
   "source": [
    "def load_fasttext_embeddings(embedding_file, word_index, embedding_dim):\n",
    "    embeddings_index = {}\n",
    "    with open(embedding_file, encoding=\"utf-8\") as f:\n",
    "        for line in f:\n",
    "            values = line.split()\n",
    "            word = values[0]\n",
    "            coefs = np.asarray(values[1:], dtype=\"float32\")\n",
    "            embeddings_index[word] = coefs\n",
    "\n",
    "    embedding_matrix = np.zeros((len(word_index) + 1, embedding_dim))\n",
    "    for word, i in word_index.items():\n",
    "        embedding_vector = embeddings_index.get(word)\n",
    "        if embedding_vector is not None:\n",
    "            embedding_matrix[i] = embedding_vector\n",
    "\n",
    "    return embedding_matrix"
   ]
  },
  {
   "cell_type": "code",
   "execution_count": null,
   "metadata": {},
   "outputs": [],
   "source": [
    "class Rnn(nn.Module):\n",
    "    def __init__(self, embedding_matrix, hidden_size, output_size, embedding_dim):\n",
    "        super(Rnn, self).__init__()\n",
    "        self.embedding = nn.Embedding.from_pretrained(\n",
    "            torch.FloatTensor(embedding_matrix), padding_idx=0\n",
    "        )\n",
    "        self.rnn = nn.RNN(\n",
    "            input_size=embedding_dim, hidden_size=hidden_size, batch_first=True\n",
    "        )\n",
    "        self.fc = nn.Linear(hidden_size, output_size)\n",
    "\n",
    "    def forward(self, x):\n",
    "        x = self.embedding(x)\n",
    "        output, _ = self.rnn(x)\n",
    "        output = self.fc(output)\n",
    "        return output"
   ]
  },
  {
   "cell_type": "code",
   "execution_count": null,
   "metadata": {},
   "outputs": [],
   "source": [
    "class Lstm(nn.Module):\n",
    "    def __init__(self, embedding_matrix, hidden_size, output_size, embedding_dim):\n",
    "        super(Lstm, self).__init__()\n",
    "        self.embedding = nn.Embedding.from_pretrained(\n",
    "            torch.FloatTensor(embedding_matrix), padding_idx=0\n",
    "        )\n",
    "        self.lstm = nn.LSTM(\n",
    "            input_size=embedding_dim, hidden_size=hidden_size, batch_first=True\n",
    "        )\n",
    "        self.fc = nn.Linear(hidden_size, output_size)\n",
    "\n",
    "    def forward(self, x):\n",
    "        x = self.embedding(x)\n",
    "        lstm_out, _ = self.lstm(x)\n",
    "        output = self.fc(lstm_out)\n",
    "        return output"
   ]
  },
  {
   "cell_type": "code",
   "execution_count": null,
   "metadata": {},
   "outputs": [],
   "source": [
    "class Gru(nn.Module):\n",
    "    def __init__(self, embedding_matrix, hidden_size, output_size, embedding_dim):\n",
    "        super(Gru, self).__init__()\n",
    "        self.embedding = nn.Embedding.from_pretrained(\n",
    "            torch.FloatTensor(embedding_matrix), padding_idx=0\n",
    "        )\n",
    "        self.gru = nn.GRU(\n",
    "            input_size=embedding_dim, hidden_size=hidden_size, batch_first=True\n",
    "        )\n",
    "        self.fc = nn.Linear(hidden_size, output_size)\n",
    "\n",
    "    def forward(self, x):\n",
    "        x = self.embedding(x)\n",
    "        output, _ = self.gru(x)\n",
    "        output = self.fc(output)\n",
    "        return output"
   ]
  },
  {
   "cell_type": "code",
   "execution_count": null,
   "metadata": {},
   "outputs": [],
   "source": [
    "run(\n",
    "    load_glove_embeddings,\n",
    "    300,\n",
    "    \"../word_embeddings/glove.6B.300d.txt\",\n",
    "    Rnn,\n",
    "    \"rnn_glove_300\",\n",
    "    30,\n",
    ")"
   ]
  },
  {
   "cell_type": "code",
   "execution_count": null,
   "metadata": {},
   "outputs": [],
   "source": [
    "run(\n",
    "    load_glove_embeddings,\n",
    "    100,\n",
    "    \"../word_embeddings/glove.6B.100d.txt\",\n",
    "    Rnn,\n",
    "    \"rnn_glove_100\",\n",
    "    30,\n",
    ")"
   ]
  },
  {
   "cell_type": "code",
   "execution_count": null,
   "metadata": {},
   "outputs": [],
   "source": [
    "run(\n",
    "    load_word2vec_embeddings,\n",
    "    300,\n",
    "    \"../word_embeddings/GoogleNews-vectors-negative300.bin\",\n",
    "    Rnn,\n",
    "    \"rnn_word2vec\",\n",
    "    20,\n",
    ")"
   ]
  },
  {
   "cell_type": "code",
   "execution_count": null,
   "metadata": {},
   "outputs": [],
   "source": [
    "run(\n",
    "    load_fasttext_embeddings,\n",
    "    300,\n",
    "    \"../word_embeddings/wiki-news-300d-1M.vec\",\n",
    "    Rnn,\n",
    "    \"rnn_fasttext\",\n",
    "    20,\n",
    ")"
   ]
  },
  {
   "cell_type": "code",
   "execution_count": null,
   "metadata": {},
   "outputs": [],
   "source": [
    "run(\n",
    "    load_glove_embeddings,\n",
    "    100,\n",
    "    \"../word_embeddings/glove.6B.100d.txt\",\n",
    "    Lstm,\n",
    "    \"lstm_glove\",\n",
    "    20,\n",
    ")"
   ]
  },
  {
   "cell_type": "code",
   "execution_count": null,
   "metadata": {},
   "outputs": [],
   "source": [
    "run(\n",
    "    load_word2vec_embeddings,\n",
    "    300,\n",
    "    \"../word_embeddings/GoogleNews-vectors-negative300.bin\",\n",
    "    Lstm,\n",
    "    \"lstm_word2vec\",\n",
    "    20,\n",
    ")"
   ]
  },
  {
   "cell_type": "code",
   "execution_count": null,
   "metadata": {},
   "outputs": [],
   "source": [
    "run(\n",
    "    load_fasttext_embeddings,\n",
    "    300,\n",
    "    \"../word_embeddings/wiki-news-300d-1M.vec\",\n",
    "    Lstm,\n",
    "    \"lstm_fasttext\",\n",
    "    20,\n",
    ")"
   ]
  },
  {
   "cell_type": "code",
   "execution_count": null,
   "metadata": {},
   "outputs": [],
   "source": [
    "run(\n",
    "    load_glove_embeddings,\n",
    "    100,\n",
    "    \"../word_embeddings/glove.6B.100d.txt\",\n",
    "    Gru,\n",
    "    \"gru_glove\",\n",
    "    30,\n",
    ")"
   ]
  },
  {
   "cell_type": "code",
   "execution_count": null,
   "metadata": {},
   "outputs": [],
   "source": [
    "run(\n",
    "    load_word2vec_embeddings,\n",
    "    300,\n",
    "    \"../word_embeddings/GoogleNews-vectors-negative300.bin\",\n",
    "    Gru,\n",
    "    \"gru_word2vec\",\n",
    "    30,\n",
    ")"
   ]
  },
  {
   "cell_type": "code",
   "execution_count": null,
   "metadata": {},
   "outputs": [],
   "source": [
    "run(\n",
    "    load_fasttext_embeddings,\n",
    "    300,\n",
    "    \"../word_embeddings/wiki-news-300d-1M.vec\",\n",
    "    Gru,\n",
    "    \"gru_fasttext\",\n",
    "    30,\n",
    ")"
   ]
  }
 ],
 "metadata": {
  "kernelspec": {
   "display_name": "Python 3",
   "language": "python",
   "name": "python3"
  },
  "language_info": {
   "codemirror_mode": {
    "name": "ipython",
    "version": 3
   },
   "file_extension": ".py",
   "mimetype": "text/x-python",
   "name": "python",
   "nbconvert_exporter": "python",
   "pygments_lexer": "ipython3",
   "version": "3.11.5"
  }
 },
 "nbformat": 4,
 "nbformat_minor": 2
}
