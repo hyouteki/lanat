{
 "cells": [
  {
   "cell_type": "code",
   "execution_count": 11,
   "metadata": {},
   "outputs": [],
   "source": [
    "import json\n",
    "from sklearn.model_selection import train_test_split"
   ]
  },
  {
   "cell_type": "code",
   "execution_count": 12,
   "metadata": {},
   "outputs": [],
   "source": [
    "class BioEncoding:\n",
    "    def __init__(self, file_path):\n",
    "        with open(file_path, \"r\") as file:\n",
    "            self.data = json.load(file)\n",
    "        self.dataset = {}\n",
    "\n",
    "        for entry in self.data:\n",
    "            text = entry[\"data\"][\"text\"]\n",
    "            case_id = entry[\"id\"]\n",
    "            annotations = entry[\"annotations\"][0][\"result\"]\n",
    "\n",
    "            entities = [\n",
    "                (\n",
    "                    entity[\"value\"][\"start\"],\n",
    "                    entity[\"value\"][\"end\"],\n",
    "                    entity[\"value\"][\"labels\"][0],\n",
    "                )\n",
    "                for entity in annotations\n",
    "            ]\n",
    "            labels = [\"O\"] * len(text.split())\n",
    "\n",
    "            try:\n",
    "                for start, end, label in entities:\n",
    "                    start_index = len(text[:start].split())\n",
    "                    end_index = len(text[:end].split())\n",
    "                    labels[start_index] = \"B_\" + label\n",
    "                    labels[start_index + 1 : end_index] = [\"I_\" + label] * (\n",
    "                        end_index - start_index - 1\n",
    "                    )\n",
    "\n",
    "                self.dataset[case_id] = {\"text\": text, \"labels\": labels}\n",
    "            except:\n",
    "                pass\n",
    "\n",
    "    def __str__(self):\n",
    "        return \"\\n\\n\".join(\n",
    "            f\"ID: {case_id}\\nText: {repr(values['text'])}\\nLabels: {values['labels']}\"\n",
    "            for case_id, values in self.dataset.items()\n",
    "        )"
   ]
  },
  {
   "cell_type": "code",
   "execution_count": 13,
   "metadata": {},
   "outputs": [],
   "source": [
    "dataset = BioEncoding(\"train_dataset_stratified.json\").dataset\n",
    "with open(\"train_dataset.json\", \"w\") as file:\n",
    "    json.dump(dataset, file, indent=4)\n",
    "\n",
    "dataset = BioEncoding(\"val_dataset_stratified.json\").dataset\n",
    "with open(\"val_dataset.json\", \"w\") as file:\n",
    "    json.dump(dataset, file, indent=4)\n",
    "\n",
    "test_dataset = BioEncoding(\"NER_TEST_JUDGEMENT.json\").dataset\n",
    "with open(\"test_dataset.json\", \"w\") as file:\n",
    "    json.dump(test_dataset, file, indent=4)"
   ]
  }
 ],
 "metadata": {
  "kernelspec": {
   "display_name": "Python 3 (ipykernel)",
   "language": "python",
   "name": "python3"
  },
  "language_info": {
   "codemirror_mode": {
    "name": "ipython",
    "version": 3
   },
   "file_extension": ".py",
   "mimetype": "text/x-python",
   "name": "python",
   "nbconvert_exporter": "python",
   "pygments_lexer": "ipython3",
   "version": "3.11.5"
  }
 },
 "nbformat": 4,
 "nbformat_minor": 4
}
