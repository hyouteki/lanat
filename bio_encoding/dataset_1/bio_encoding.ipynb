{
 "cells": [
  {
   "cell_type": "code",
   "execution_count": 21,
   "metadata": {},
   "outputs": [],
   "source": [
    "import json\n",
    "from sklearn.model_selection import train_test_split"
   ]
  },
  {
   "cell_type": "code",
   "execution_count": 22,
   "metadata": {},
   "outputs": [],
   "source": [
    "class BioEncoding:\n",
    "    def __init__(self, file_path):\n",
    "        with open(file_path, \"r\") as file:\n",
    "            self.data =  json.load(file)\n",
    "        self.dataset = {}\n",
    "\n",
    "        for entry in self.data:\n",
    "            text = entry[\"data\"][\"text\"]\n",
    "            case_id = entry[\"id\"]\n",
    "            annotations = entry[\"annotations\"][0][\"result\"]\n",
    "\n",
    "            entities = [(entity[\"value\"][\"start\"], entity[\"value\"][\"end\"], entity[\"value\"][\"labels\"][0])\n",
    "                        for entity in annotations]\n",
    "            labels = [\"O\"] * len(text.split())\n",
    "\n",
    "            try: \n",
    "                for start, end, label in entities:\n",
    "                    start_index = len(text[:start].split())\n",
    "                    end_index = len(text[:end].split()) \n",
    "                    labels[start_index] = \"B_\" + label\n",
    "                    labels[start_index+1: end_index] = [\"I_\" + label] * (end_index-start_index-1)\n",
    "\n",
    "                self.dataset[case_id] = {\"text\": text, \"labels\": labels}\n",
    "            except:\n",
    "                pass\n",
    "    \n",
    "    def __str__(self):\n",
    "        return \"\\n\\n\".join(f\"ID: {case_id}\\nText: {repr(values['text'])}\\nLabels: {values['labels']}\"\n",
    "                       for case_id, values in self.dataset.items())"
   ]
  },
  {
   "cell_type": "code",
   "execution_count": 23,
   "metadata": {},
   "outputs": [],
   "source": [
    "dataset = BioEncoding(\"NER_TRAIN_JUDGEMENT.json\").dataset\n",
    "# print(dataset)\n",
    "train_dataset, val_dataset = train_test_split(list(dataset.items()), test_size=0.15, random_state=42)\n",
    "train_dataset = dict(train_dataset)\n",
    "val_dataset = dict(val_dataset)\n",
    "\n",
    "with open(\"train_dataset.json\", \"w\") as file:\n",
    "    json.dump(train_dataset, file, indent=4)\n",
    "\n",
    "with open(\"val_dataset.json\", \"w\") as file:\n",
    "    json.dump(val_dataset, file, indent=4)\n",
    "\n",
    "test_dataset = BioEncoding(\"NER_TEST_JUDGEMENT.json\").dataset\n",
    "with open(\"test_dataset.json\", \"w\") as file:\n",
    "    json.dump(test_dataset, file, indent=4)"
   ]
  }
 ],
 "metadata": {
  "kernelspec": {
   "display_name": "Python 3 (ipykernel)",
   "language": "python",
   "name": "python3"
  },
  "language_info": {
   "codemirror_mode": {
    "name": "ipython",
    "version": 3
   },
   "file_extension": ".py",
   "mimetype": "text/x-python",
   "name": "python",
   "nbconvert_exporter": "python",
   "pygments_lexer": "ipython3",
   "version": "3.11.5"
  }
 },
 "nbformat": 4,
 "nbformat_minor": 4
}
