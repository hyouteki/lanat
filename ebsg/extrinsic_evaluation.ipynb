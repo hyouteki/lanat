{
 "cells": [
  {
   "cell_type": "code",
   "execution_count": 2,
   "metadata": {},
   "outputs": [
    {
     "name": "stdout",
     "output_type": "stream",
     "text": [
      "Best Parameters: {'svc__C': 10, 'svc__class_weight': None, 'svc__gamma': 0.1, 'svc__kernel': 'rbf'}\n"
     ]
    }
   ],
   "source": [
    "from sklearn.model_selection import train_test_split, GridSearchCV\n",
    "from sklearn.feature_extraction.text import TfidfVectorizer\n",
    "from sklearn.svm import SVC\n",
    "from sklearn.metrics import accuracy_score, classification_report\n",
    "from sklearn.pipeline import make_pipeline\n",
    "import json\n",
    "\n",
    "\n",
    "corpus_path = \"../dataset/corpus.txt\"\n",
    "labels_path = \"../dataset/labels.txt\"\n",
    "\n",
    "with open(corpus_path, 'r', encoding='utf-8') as corpus_file:\n",
    "    corpus = corpus_file.readlines()\n",
    "\n",
    "with open(labels_path, 'r', encoding='utf-8') as labels_file:\n",
    "    labels = labels_file.readlines()\n",
    "\n",
    "\n",
    "pipeline = make_pipeline(TfidfVectorizer(), SVC())\n",
    "\n",
    "param_grid = {\n",
    "    'svc__C': [0.1, 1, 10],\n",
    "    'svc__kernel': ['linear', 'rbf', 'poly'],\n",
    "    'svc__gamma': ['scale', 'auto', 0.1, 1],\n",
    "    'svc__class_weight': [None, 'balanced']\n",
    "}\n",
    "\n",
    "grid_search = GridSearchCV(pipeline, param_grid, cv=5, n_jobs=-1)\n",
    "grid_search.fit(corpus, labels)\n",
    "\n",
    "\n",
    "print(\"Best Parameters:\", grid_search.best_params_)\n",
    "\n",
    "best_model = grid_search.best_estimator_\n"
   ]
  },
  {
   "cell_type": "code",
   "execution_count": 3,
   "metadata": {},
   "outputs": [],
   "source": [
    "\n",
    "import pickle\n",
    "\n",
    "\n",
    "\n",
    "def predict_emotion():\n",
    "    final_model = make_pipeline(TfidfVectorizer(), SVC(C=10, kernel='rbf', gamma=0.1, class_weight=None))\n",
    "    final_model.fit(corpus, labels)\n",
    "\n",
    "    emotion_file_path = \"generated_sentences.lanat\"\n",
    "\n",
    "    with open(emotion_file_path, 'rb') as emotion_file:\n",
    "        emotions_data = pickle.load(emotion_file)\n",
    "\n",
    "    # Initialize empty lists to store predictions and true labels\n",
    "    predictions = []\n",
    "    true_labels = []\n",
    "\n",
    "\n",
    "    for emotion, sentences in emotions_data.items():\n",
    "\n",
    "        y_pred = final_model.predict(sentences)\n",
    "        predictions.extend(y_pred)\n",
    "        true_labels.extend([emotion] * len(sentences))\n",
    "        \n",
    "    predicts=[predict[:-1] for predict in predictions]\n",
    "    # print(predictions)\n",
    "    # print(true_labels)\n",
    "    # Evaluate the performance on the generated sentences\n",
    "    accuracy_generated = accuracy_score(true_labels, predicts)\n",
    "    classification_rep_generated = classification_report(true_labels, predicts)\n",
    "\n",
    "    return(accuracy_generated)\n",
    "    # print(\"Generated Sentences Classification Report:\\n\", classification_rep_generated)\n"
   ]
  },
  {
   "cell_type": "code",
   "execution_count": 11,
   "metadata": {},
   "outputs": [
    {
     "name": "stdout",
     "output_type": "stream",
     "text": [
      "0.86\n",
      "0.8266666666666667\n",
      "0.8333333333333334\n",
      "0.87\n",
      "0.8333333333333334\n",
      "0.84\n",
      "0.8366666666666667\n",
      "0.87\n",
      "0.8233333333333334\n",
      "0.8466666666666667\n",
      "0.8533333333333334\n",
      "0.8366666666666667\n",
      "0.8233333333333334\n",
      "0.8333333333333334\n",
      "0.82\n",
      "0.8566666666666667\n",
      "0.85\n",
      "0.8133333333333334\n",
      "0.8533333333333334\n",
      "0.8333333333333334\n",
      "Average 0.8406666666666668\n"
     ]
    }
   ],
   "source": [
    "import subprocess\n",
    "\n",
    "script_path = 'emotions.py'\n",
    "\n",
    "outputs=[]\n",
    "for _ in range(20):\n",
    "    result = subprocess.run(['python', script_path], stdout=subprocess.PIPE, text=True)\n",
    "    r = predict_emotion()\n",
    "    print(r)\n",
    "    outputs.append(r)\n",
    "\n",
    "print(\"Average\",sum((outputs))/len(outputs))"
   ]
  },
  {
   "cell_type": "code",
   "execution_count": null,
   "metadata": {},
   "outputs": [],
   "source": []
  }
 ],
 "metadata": {
  "kernelspec": {
   "display_name": "Python 3",
   "language": "python",
   "name": "python3"
  },
  "language_info": {
   "codemirror_mode": {
    "name": "ipython",
    "version": 3
   },
   "file_extension": ".py",
   "mimetype": "text/x-python",
   "name": "python",
   "nbconvert_exporter": "python",
   "pygments_lexer": "ipython3",
   "version": "3.10.11"
  }
 },
 "nbformat": 4,
 "nbformat_minor": 2
}
